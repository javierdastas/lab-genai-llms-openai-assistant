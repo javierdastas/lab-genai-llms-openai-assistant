{
 "cells": [
  {
   "cell_type": "markdown",
   "metadata": {},
   "source": [
    "# LAB GenAI - LLMs - OpenAI Assistant"
   ]
  },
  {
   "cell_type": "code",
   "execution_count": 3,
   "metadata": {},
   "outputs": [
    {
     "name": "stderr",
     "output_type": "stream",
     "text": [
      "/var/folders/g2/dsm99_hd0c9_m_6qhbpwpvl80000gn/T/ipykernel_13108/3048415430.py:1: DeprecationWarning: Importing display from IPython.core.display is deprecated since IPython 7.14, please import from IPython display\n",
      "  from IPython.core.display import display, Markdown\n"
     ]
    }
   ],
   "source": [
    "from IPython.core.display import display, Markdown"
   ]
  },
  {
   "cell_type": "code",
   "execution_count": 4,
   "metadata": {},
   "outputs": [],
   "source": [
    "# Import dotenv to load env file\n",
    "from dotenv import load_dotenv\n",
    "import os\n",
    "\n",
    "# Load the environment variables from the .env file\n",
    "load_dotenv(dotenv_path='openaikey.env')\n",
    "\n",
    "# Get the API key from the environment variable\n",
    "openai_api_key = os.getenv(\"OPENAI_API_KEY\")"
   ]
  },
  {
   "cell_type": "markdown",
   "metadata": {},
   "source": [
    "## Exercise 1"
   ]
  },
  {
   "cell_type": "markdown",
   "metadata": {},
   "source": [
    "Create an assistant to answer a topic of your choosing:\n",
    " - Upload a file of your interest\n",
    " - Add Instructions to the prompt\n",
    " - Use the assistant in Playground mode\n",
    "\n",
    " https://platform.openai.com/playground/assistants"
   ]
  },
  {
   "cell_type": "code",
   "execution_count": 7,
   "metadata": {},
   "outputs": [],
   "source": [
    "import pandas as pd\n",
    "from openai import OpenAI"
   ]
  },
  {
   "cell_type": "code",
   "execution_count": 8,
   "metadata": {},
   "outputs": [],
   "source": [
    "client = OpenAI(api_key=openai_api_key)\n",
    "\n",
    "assistant = client.beta.assistants.create(\n",
    "    name='Avatar Wilderness Guide',\n",
    "    instructions='You are a Pandora Wilderness Guide based off of the James Cameron Avatar movies that gives a user useful information about the Pandoran wilderness.',\n",
    "    model='gpt-4o-mini',\n",
    "    tools=[{'type': 'file_search'}],\n",
    ")"
   ]
  },
  {
   "cell_type": "code",
   "execution_count": 9,
   "metadata": {},
   "outputs": [],
   "source": [
    "# Create a vector store caled \"Pandora Documents\"\n",
    "vector_store = client.beta.vector_stores.create(name='Pandora Documents')"
   ]
  },
  {
   "cell_type": "code",
   "execution_count": 17,
   "metadata": {},
   "outputs": [],
   "source": [
    "# Upload files to OpenAI\n",
    "file_paths = ['PDFTechlib-Brochure.pdf']\n",
    "file_streams = [open(path, 'rb') for path in file_paths]"
   ]
  },
  {
   "cell_type": "code",
   "execution_count": 19,
   "metadata": {},
   "outputs": [],
   "source": [
    "# Use the upload and poll SDK helper to upload the files, add them to the vector store,\n",
    "# and poll the status of the file batch for completion.\n",
    "file_batch = client.beta.vector_stores.file_batches.upload_and_poll(\n",
    "    vector_store_id=vector_store.id, files=file_streams\n",
    ")"
   ]
  },
  {
   "cell_type": "code",
   "execution_count": 20,
   "metadata": {},
   "outputs": [
    {
     "name": "stdout",
     "output_type": "stream",
     "text": [
      "completed\n",
      "FileCounts(cancelled=0, completed=1, failed=0, in_progress=0, total=1)\n"
     ]
    }
   ],
   "source": [
    "# Print files\n",
    "print(file_batch.status)\n",
    "print(file_batch.file_counts)"
   ]
  },
  {
   "cell_type": "code",
   "execution_count": 23,
   "metadata": {},
   "outputs": [],
   "source": [
    "assistant = client.beta.assistants.update(\n",
    "    assistant_id = assistant.id,\n",
    "    tool_resources={'file_search' : {'vector_store_ids' : [vector_store.id]}},\n",
    ")"
   ]
  },
  {
   "cell_type": "markdown",
   "metadata": {},
   "source": [
    "## Exercise 2"
   ]
  },
  {
   "cell_type": "markdown",
   "metadata": {},
   "source": [
    "Talk to your assistant via the API\n",
    "\n",
    "https://platform.openai.com/docs/assistants/overview"
   ]
  },
  {
   "cell_type": "code",
   "execution_count": 25,
   "metadata": {},
   "outputs": [
    {
     "data": {
      "text/markdown": [
       "The tool allows me to search through the documents you have uploaded. I can issue queries to extract specific information from those documents. If you have a specific question or topic in mind related to the content of your files, please let me know, and I can help find that information for you!"
      ],
      "text/plain": [
       "<IPython.core.display.Markdown object>"
      ]
     },
     "metadata": {},
     "output_type": "display_data"
    }
   ],
   "source": [
    "# Create a thread and attach the file to the message\n",
    "thread = client.beta.threads.create(\n",
    "    messages = [\n",
    "        {\n",
    "            'role' : 'user',\n",
    "            'content' : 'What generate the tool?'\n",
    "        }\n",
    "    ]\n",
    ")\n",
    "\n",
    "run = client.beta.threads.runs.create_and_poll(\n",
    "    thread_id = thread.id, assistant_id = assistant.id\n",
    ")\n",
    "\n",
    "messages = list(client.beta.threads.messages.list(thread_id=thread.id, run_id=run.id))\n",
    "message_content = messages[0].content[0].text\n",
    "display(Markdown(message_content.value))"
   ]
  },
  {
   "cell_type": "markdown",
   "metadata": {},
   "source": [
    "## Exercise 3"
   ]
  },
  {
   "cell_type": "markdown",
   "metadata": {},
   "source": [
    "Create an assistant that will call a weather API, given the user's answer and return the proper answer.\n",
    "\n",
    "See the documentation of the weather API here: https://open-meteo.com/en/docs"
   ]
  },
  {
   "cell_type": "code",
   "execution_count": 27,
   "metadata": {},
   "outputs": [
    {
     "name": "stdout",
     "output_type": "stream",
     "text": [
      "{'latitude': 52.52, 'longitude': 13.419998, 'generationtime_ms': 0.05555152893066406, 'utc_offset_seconds': 0, 'timezone': 'GMT', 'timezone_abbreviation': 'GMT', 'elevation': 38.0, 'hourly_units': {'time': 'iso8601', 'temperature_2m': '°C'}, 'hourly': {'time': ['2025-02-14T00:00', '2025-02-14T01:00', '2025-02-14T02:00', '2025-02-14T03:00', '2025-02-14T04:00', '2025-02-14T05:00', '2025-02-14T06:00', '2025-02-14T07:00', '2025-02-14T08:00', '2025-02-14T09:00', '2025-02-14T10:00', '2025-02-14T11:00', '2025-02-14T12:00', '2025-02-14T13:00', '2025-02-14T14:00', '2025-02-14T15:00', '2025-02-14T16:00', '2025-02-14T17:00', '2025-02-14T18:00', '2025-02-14T19:00', '2025-02-14T20:00', '2025-02-14T21:00', '2025-02-14T22:00', '2025-02-14T23:00', '2025-02-15T00:00', '2025-02-15T01:00', '2025-02-15T02:00', '2025-02-15T03:00', '2025-02-15T04:00', '2025-02-15T05:00', '2025-02-15T06:00', '2025-02-15T07:00', '2025-02-15T08:00', '2025-02-15T09:00', '2025-02-15T10:00', '2025-02-15T11:00', '2025-02-15T12:00', '2025-02-15T13:00', '2025-02-15T14:00', '2025-02-15T15:00', '2025-02-15T16:00', '2025-02-15T17:00', '2025-02-15T18:00', '2025-02-15T19:00', '2025-02-15T20:00', '2025-02-15T21:00', '2025-02-15T22:00', '2025-02-15T23:00', '2025-02-16T00:00', '2025-02-16T01:00', '2025-02-16T02:00', '2025-02-16T03:00', '2025-02-16T04:00', '2025-02-16T05:00', '2025-02-16T06:00', '2025-02-16T07:00', '2025-02-16T08:00', '2025-02-16T09:00', '2025-02-16T10:00', '2025-02-16T11:00', '2025-02-16T12:00', '2025-02-16T13:00', '2025-02-16T14:00', '2025-02-16T15:00', '2025-02-16T16:00', '2025-02-16T17:00', '2025-02-16T18:00', '2025-02-16T19:00', '2025-02-16T20:00', '2025-02-16T21:00', '2025-02-16T22:00', '2025-02-16T23:00', '2025-02-17T00:00', '2025-02-17T01:00', '2025-02-17T02:00', '2025-02-17T03:00', '2025-02-17T04:00', '2025-02-17T05:00', '2025-02-17T06:00', '2025-02-17T07:00', '2025-02-17T08:00', '2025-02-17T09:00', '2025-02-17T10:00', '2025-02-17T11:00', '2025-02-17T12:00', '2025-02-17T13:00', '2025-02-17T14:00', '2025-02-17T15:00', '2025-02-17T16:00', '2025-02-17T17:00', '2025-02-17T18:00', '2025-02-17T19:00', '2025-02-17T20:00', '2025-02-17T21:00', '2025-02-17T22:00', '2025-02-17T23:00', '2025-02-18T00:00', '2025-02-18T01:00', '2025-02-18T02:00', '2025-02-18T03:00', '2025-02-18T04:00', '2025-02-18T05:00', '2025-02-18T06:00', '2025-02-18T07:00', '2025-02-18T08:00', '2025-02-18T09:00', '2025-02-18T10:00', '2025-02-18T11:00', '2025-02-18T12:00', '2025-02-18T13:00', '2025-02-18T14:00', '2025-02-18T15:00', '2025-02-18T16:00', '2025-02-18T17:00', '2025-02-18T18:00', '2025-02-18T19:00', '2025-02-18T20:00', '2025-02-18T21:00', '2025-02-18T22:00', '2025-02-18T23:00', '2025-02-19T00:00', '2025-02-19T01:00', '2025-02-19T02:00', '2025-02-19T03:00', '2025-02-19T04:00', '2025-02-19T05:00', '2025-02-19T06:00', '2025-02-19T07:00', '2025-02-19T08:00', '2025-02-19T09:00', '2025-02-19T10:00', '2025-02-19T11:00', '2025-02-19T12:00', '2025-02-19T13:00', '2025-02-19T14:00', '2025-02-19T15:00', '2025-02-19T16:00', '2025-02-19T17:00', '2025-02-19T18:00', '2025-02-19T19:00', '2025-02-19T20:00', '2025-02-19T21:00', '2025-02-19T22:00', '2025-02-19T23:00', '2025-02-20T00:00', '2025-02-20T01:00', '2025-02-20T02:00', '2025-02-20T03:00', '2025-02-20T04:00', '2025-02-20T05:00', '2025-02-20T06:00', '2025-02-20T07:00', '2025-02-20T08:00', '2025-02-20T09:00', '2025-02-20T10:00', '2025-02-20T11:00', '2025-02-20T12:00', '2025-02-20T13:00', '2025-02-20T14:00', '2025-02-20T15:00', '2025-02-20T16:00', '2025-02-20T17:00', '2025-02-20T18:00', '2025-02-20T19:00', '2025-02-20T20:00', '2025-02-20T21:00', '2025-02-20T22:00', '2025-02-20T23:00'], 'temperature_2m': [-0.8, -0.8, -0.7, -0.7, -0.7, -0.8, -0.8, -1.0, -0.4, 0.4, 0.9, 1.2, 1.5, 1.9, 2.0, 1.6, 0.8, 0.3, 0.2, -0.4, -0.8, -0.8, -0.9, -0.9, -0.7, -0.8, -0.9, -1.2, -1.2, -1.3, -1.4, -1.4, -1.4, -1.4, -1.0, -0.7, -0.2, -0.1, 0.1, 0.1, -0.3, -0.6, -0.9, -1.3, -1.3, -1.5, -1.8, -1.8, -1.9, -1.9, -1.9, -1.8, -1.9, -1.9, -1.8, -1.9, -1.8, -1.5, -1.0, -0.6, -0.2, 0.1, 0.0, 0.1, -0.3, -0.7, -1.0, -2.5, -3.1, -3.7, -4.0, -4.5, -5.1, -5.5, -5.8, -6.0, -6.3, -6.5, -6.7, -6.8, -5.9, -4.2, -2.6, -1.4, -0.9, -0.7, -0.7, -1.0, -1.3, -2.2, -3.1, -3.9, -4.7, -5.3, -5.7, -6.0, -6.4, -6.7, -7.0, -7.3, -7.7, -8.1, -8.0, -7.3, -6.3, -5.1, -3.7, -2.3, -1.2, -0.8, -0.7, -0.8, -1.2, -1.9, -2.5, -3.1, -3.6, -4.0, -4.5, -4.9, -5.2, -5.5, -5.8, -6.0, -6.3, -6.6, -6.6, -6.0, -5.1, -4.1, -2.7, -1.2, -0.1, 0.3, 0.3, 0.1, -0.4, -1.1, -1.6, -1.2, -1.7, -2.1, -2.5, -2.8, -3.0, -3.2, -3.3, -3.4, -3.6, -3.7, -3.6, -3.2, -2.7, -2.0, -1.2, -0.2, 0.6, 0.9, 1.1, 1.0, 0.8, 0.5, 0.1, -0.1, -0.3, -0.6, -0.8, -1.1]}}\n"
     ]
    }
   ],
   "source": [
    "import requests\n",
    "\n",
    "def get_weather_forecast(latitude, longitude):\n",
    "    base_url = \"https://api.open-meteo.com/v1/forecast\"\n",
    "    params = {\n",
    "        \"latitude\": latitude,\n",
    "        \"longitude\": longitude,\n",
    "        \"hourly\": \"temperature_2m\"\n",
    "    }\n",
    "    response = requests.get(base_url, params=params)\n",
    "    return response.json()\n",
    "\n",
    "# Example usage:\n",
    "forecast = get_weather_forecast(52.52, 13.41)\n",
    "print(forecast)"
   ]
  },
  {
   "cell_type": "code",
   "execution_count": null,
   "metadata": {},
   "outputs": [],
   "source": []
  },
  {
   "cell_type": "markdown",
   "metadata": {},
   "source": [
    "### If you want to, there is a hint here:"
   ]
  },
  {
   "cell_type": "markdown",
   "metadata": {},
   "source": [
    "OpenAI Chatbots / Assistants have a way to respond in json format. \n",
    "\n",
    "Explore the function calling functionality"
   ]
  }
 ],
 "metadata": {
  "kernelspec": {
   "display_name": "Python (base)",
   "language": "python",
   "name": "base"
  },
  "language_info": {
   "codemirror_mode": {
    "name": "ipython",
    "version": 3
   },
   "file_extension": ".py",
   "mimetype": "text/x-python",
   "name": "python",
   "nbconvert_exporter": "python",
   "pygments_lexer": "ipython3",
   "version": "3.12.2"
  }
 },
 "nbformat": 4,
 "nbformat_minor": 4
}
